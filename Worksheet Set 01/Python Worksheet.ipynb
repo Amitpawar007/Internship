{
 "cells": [
  {
   "cell_type": "markdown",
   "id": "341c3e92",
   "metadata": {},
   "source": [
    "__Q11.PROGRAMME FOR FACTORIAL OF A NUMBER."
   ]
  },
  {
   "cell_type": "code",
   "execution_count": 10,
   "id": "7373a95a",
   "metadata": {
    "scrolled": true
   },
   "outputs": [
    {
     "name": "stdout",
     "output_type": "stream",
     "text": [
      "Enter a number: 45\n",
      "The factorial of the number is 119622220865480194561963161495657715064383733760000000000\n"
     ]
    }
   ],
   "source": [
    "# Python program to find the factorial of a number provided by the user.\n",
    "# To take input from the user\n",
    "a = int(input(\"Enter a number: \")) \n",
    "f = 1 \n",
    "for i in range(1,a+1): \n",
    "    f = f * i \n",
    " \n",
    "print(f'The factorial of the number is {f}')"
   ]
  },
  {
   "cell_type": "markdown",
   "id": "db3d544f",
   "metadata": {},
   "source": [
    "__Q12 Program to check if a number is prime or composite."
   ]
  },
  {
   "cell_type": "code",
   "execution_count": 11,
   "id": "8e55f5d3",
   "metadata": {},
   "outputs": [
    {
     "name": "stdout",
     "output_type": "stream",
     "text": [
      "Enter a number: 89\n",
      "89 is a composite number\n"
     ]
    }
   ],
   "source": [
    "\n",
    "# To take input from the user\n",
    "number = int(input(\"Enter a number: \"))\n",
    "\n",
    "# define a flag variable\n",
    "flag = False\n",
    "\n",
    "# prime numbers are greater than 1\n",
    "if num > 1:\n",
    "    # check for factors\n",
    "    for i in range(2, number):\n",
    "        if (num % i) == 0:\n",
    "            # if factor is found, set flag to True\n",
    "            flag = True\n",
    "            # break out of loop\n",
    "            break\n",
    "\n",
    "# check if flag is True\n",
    "if flag:\n",
    "    print(number, \"is a composite number\")\n",
    "else:\n",
    "    print(number, \"is a prime number\")"
   ]
  },
  {
   "cell_type": "markdown",
   "id": "c9e104f6",
   "metadata": {},
   "source": [
    "__Q13.Write a python program to check whether a given string is palindrome or not."
   ]
  },
  {
   "cell_type": "code",
   "execution_count": 12,
   "id": "5a0551f9",
   "metadata": {},
   "outputs": [
    {
     "name": "stdout",
     "output_type": "stream",
     "text": [
      "The string is not a palindrome.\n"
     ]
    }
   ],
   "source": [
    "user = 'Datatrained'\n",
    "\n",
    "# To make all chraracter into lowercase\n",
    "string = user.casefold()\n",
    "\n",
    "# reverese the order of string\n",
    "reversed_string = reversed(string)\n",
    "\n",
    "#comparing two  list using assignment operator\n",
    "\n",
    "if list(string) == list(reversed_string):\n",
    "   print(\"The string is a palindrome.\")\n",
    "else:\n",
    "   print(\"The string is not a palindrome.\")\n"
   ]
  },
  {
   "cell_type": "markdown",
   "id": "c02868a5",
   "metadata": {},
   "source": [
    "__Q14 Write a Python program to get the third side of right-angled triangle from two given sides"
   ]
  },
  {
   "cell_type": "code",
   "execution_count": 13,
   "id": "0b23ee0e",
   "metadata": {},
   "outputs": [
    {
     "name": "stdout",
     "output_type": "stream",
     "text": [
      "Hypotenuse = 5.0\n",
      "Adjacent = 4.0\n",
      "Opposite = 3.0\n"
     ]
    }
   ],
   "source": [
    "#In parameter we have given sides of the of the triangle\n",
    "\n",
    "\n",
    "def pythagoras(opposite_side,adjacent_side,hypotenuse):\n",
    "    #Checking each condition\n",
    "        if opposite_side == str(\"x\"):\n",
    "            return (\"Opposite = \" + str(((hypotenuse**2) - (adjacent_side**2))**0.5))\n",
    "        elif adjacent_side == str(\"x\"):\n",
    "            return (\"Adjacent = \" + str(((hypotenuse**2) - (opposite_side**2))**0.5))\n",
    "        elif hypotenuse == str(\"x\"):\n",
    "            return (\"Hypotenuse = \" + str(((opposite_side**2) + (adjacent_side**2))**0.5))\n",
    "        else:\n",
    "            return \n",
    "\n",
    "        \n",
    "#For Hypotenuse        \n",
    "print(pythagoras(3,4,'x'))\n",
    "#For Adjacent\n",
    "print(pythagoras(3,'x',5))\n",
    "#For Opposite\n",
    "print(pythagoras('x',4,5))"
   ]
  },
  {
   "cell_type": "markdown",
   "id": "953191db",
   "metadata": {},
   "source": [
    "__Q15.Write a python program to print the frequency of each of the characters present in a given string."
   ]
  },
  {
   "cell_type": "code",
   "execution_count": 14,
   "id": "82a4080c",
   "metadata": {},
   "outputs": [
    {
     "name": "stdout",
     "output_type": "stream",
     "text": [
      "Enter the word \n",
      "FlipRobo\n",
      "{'F': 1, 'l': 1, 'i': 1, 'p': 1, 'R': 1, 'o': 2, 'b': 1}\n"
     ]
    }
   ],
   "source": [
    "\n",
    "#Getting input from user \n",
    "user = input(\"Enter the word \\n\")\n",
    "\n",
    "#Creating empty dictionary\n",
    "d1 = dict()\n",
    "\n",
    "#Applyimg for loop to access each element\n",
    "for c in user:\n",
    "    d1[c] = d1.get(c,0) + 1\n",
    "\n",
    "# printing result\n",
    "print(d1)\n",
    "    \n",
    "\n",
    "\n"
   ]
  },
  {
   "cell_type": "code",
   "execution_count": null,
   "id": "bbdee975",
   "metadata": {},
   "outputs": [],
   "source": []
  },
  {
   "cell_type": "code",
   "execution_count": null,
   "id": "774bdb1c",
   "metadata": {},
   "outputs": [],
   "source": []
  }
 ],
 "metadata": {
  "kernelspec": {
   "display_name": "Python 3 (ipykernel)",
   "language": "python",
   "name": "python3"
  },
  "language_info": {
   "codemirror_mode": {
    "name": "ipython",
    "version": 3
   },
   "file_extension": ".py",
   "mimetype": "text/x-python",
   "name": "python",
   "nbconvert_exporter": "python",
   "pygments_lexer": "ipython3",
   "version": "3.9.7"
  }
 },
 "nbformat": 4,
 "nbformat_minor": 5
}
